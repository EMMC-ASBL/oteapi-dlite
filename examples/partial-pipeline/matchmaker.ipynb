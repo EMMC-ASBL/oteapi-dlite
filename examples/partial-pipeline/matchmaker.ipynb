{
 "cells": [
  {
   "cell_type": "code",
   "execution_count": 1,
   "id": "11544030-eb82-4bfa-8b6e-c6833b66e750",
   "metadata": {},
   "outputs": [],
   "source": [
    "from oteutils.kb import *\n",
    "from oteutils.utils import *\n",
    "# Connect to the OTEAPI services\n",
    "client = OTEPipelines(url='http://localhost:8080')"
   ]
  },
  {
   "cell_type": "code",
   "execution_count": 2,
   "id": "6f6939fb-951a-401e-a792-d70ab82102ee",
   "metadata": {},
   "outputs": [],
   "source": [
    "dataMappings=[\n",
    "  (\"http://onto-ns.com/meta/matchmaker/demo/0.2/image#InstructName\", \"http://emmo.info/domain-mappings#mapsTo\", \"http://onto-ns.com/1/sem#instructName\"),\n",
    "  (\"http://onto-ns.com/meta/matchmaker/demo/0.2/image#SerialNumber\", \"http://emmo.info/domain-mappings#mapsTo\", \"http://onto-ns.com/1/sem#serialNumber\"),\n",
    "  (\"http://onto-ns.com/meta/matchmaker/demo/0.2/image#DataNumber\", \"http://emmo.info/domain-mappings#mapsTo\", \"http://onto-ns.com/1/sem#dataNumber\"),\n",
    "  (\"http://onto-ns.com/meta/matchmaker/demo/0.2/image#Format\", \"http://emmo.info/domain-mappings#mapsTo\", \"http://onto-ns.com/1/sem#format\"),\n",
    "  (\"http://onto-ns.com/meta/matchmaker/demo/0.2/image#ImageName\", \"http://emmo.info/domain-mappings#mapsTo\", \"http://onto-ns.com/1/sem#imageName\"),\n",
    "  (\"http://onto-ns.com/meta/matchmaker/demo/0.2/image#ImageUrl\", \"http://emmo.info/domain-mappings#mapsTo\", \"http://onto-ns.com/1/sem#imageUrl\"),\n",
    "  (\"http://onto-ns.com/meta/matchmaker/demo/0.2/image#Directory\", \"http://emmo.info/domain-mappings#mapsTo\", \"http://onto-ns.com/1/sem#directory\"),\n",
    "  (\"http://onto-ns.com/meta/matchmaker/demo/0.2/image#Date\", \"http://emmo.info/domain-mappings#mapsTo\", \"http://onto-ns.com/1/sem#date\"),\n",
    "  (\"http://onto-ns.com/meta/matchmaker/demo/0.2/image#Time\", \"http://emmo.info/domain-mappings#mapsTo\", \"http://onto-ns.com/1/sem#time\"),\n",
    "  (\"http://onto-ns.com/meta/matchmaker/demo/0.2/image#Media\", \"http://emmo.info/domain-mappings#mapsTo\", \"http://onto-ns.com/1/sem#media\"),\n",
    "  (\"http://onto-ns.com/meta/matchmaker/demo/0.2/image#DataSize\", \"http://emmo.info/domain-mappings#mapsTo\", \"http://onto-ns.com/1/sem#dataSize\"),\n",
    "  (\"http://onto-ns.com/meta/matchmaker/demo/0.2/image#PixelSize\", \"http://emmo.info/domain-mappings#mapsTo\", \"http://onto-ns.com/1/sem#pixelSize\"),\n",
    "  (\"http://onto-ns.com/meta/matchmaker/demo/0.2/image#SignalName\", \"http://emmo.info/domain-mappings#mapsTo\", \"http://onto-ns.com/1/sem#signalName\"),\n",
    "  (\"http://onto-ns.com/meta/matchmaker/demo/0.2/image#AcceleratingVoltage\", \"http://emmo.info/domain-mappings#mapsTo\", \"http://onto-ns.com/1/sem#acceleratingVoltage\"),\n",
    "  (\"http://onto-ns.com/meta/matchmaker/demo/0.2/image#DecelerationVoltage\", \"http://emmo.info/domain-mappings#mapsTo\", \"http://onto-ns.com/1/sem#decelerationVoltage\"),\n",
    "  (\"http://onto-ns.com/meta/matchmaker/demo/0.2/image#Magnification\", \"http://emmo.info/domain-mappings#mapsTo\", \"http://onto-ns.com/1/sem#magnification\"),\n",
    "  (\"http://onto-ns.com/meta/matchmaker/demo/0.2/image#WorkingDistance\", \"http://emmo.info/domain-mappings#mapsTo\", \"http://onto-ns.com/1/sem#workingDistance\"),\n",
    "  (\"http://onto-ns.com/meta/matchmaker/demo/0.2/image#EmissionCurrent\", \"http://emmo.info/domain-mappings#mapsTo\", \"http://onto-ns.com/1/sem#emissionCurrent\"),\n",
    "  (\"http://onto-ns.com/meta/matchmaker/demo/0.2/image#LensMode\", \"http://emmo.info/domain-mappings#mapsTo\", \"http://onto-ns.com/1/sem#lensMode\"),\n",
    "  (\"http://onto-ns.com/meta/matchmaker/demo/0.2/image#PhotoSize\", \"http://emmo.info/domain-mappings#mapsTo\", \"http://onto-ns.com/1/sem#photoSize\"),\n",
    "  (\"http://onto-ns.com/meta/matchmaker/demo/0.2/image#Vacuum\", \"http://emmo.info/domain-mappings#mapsTo\", \"http://onto-ns.com/1/sem#vacuum\"),\n",
    "  (\"http://onto-ns.com/meta/matchmaker/demo/0.2/image#MicronMarker\", \"http://emmo.info/domain-mappings#mapsTo\", \"http://onto-ns.com/1/sem#micronMarker\"),\n",
    "  (\"http://onto-ns.com/meta/matchmaker/demo/0.2/image#SubMagnification\", \"http://emmo.info/domain-mappings#mapsTo\", \"http://onto-ns.com/1/sem#subMagnification\"),\n",
    "  (\"http://onto-ns.com/meta/matchmaker/demo/0.2/image#SubSignalName\", \"http://emmo.info/domain-mappings#mapsTo\", \"http://onto-ns.com/1/sem#subSignalName\"),\n",
    "  (\"http://onto-ns.com/meta/matchmaker/demo/0.2/image#SpecimenBias\", \"http://emmo.info/domain-mappings#mapsTo\", \"http://onto-ns.com/1/sem#specimenBias\"),\n",
    "  (\"http://onto-ns.com/meta/matchmaker/demo/0.2/image#Condencer1\", \"http://emmo.info/domain-mappings#mapsTo\", \"http://onto-ns.com/1/sem#condencer1\"),\n",
    "  (\"http://onto-ns.com/meta/matchmaker/demo/0.2/image#ScanSpeed\", \"http://emmo.info/domain-mappings#mapsTo\", \"http://onto-ns.com/1/sem#scanSpeed\"),\n",
    "  (\"http://onto-ns.com/meta/matchmaker/demo/0.2/image#CalibrationScanSpeed\", \"http://emmo.info/domain-mappings#mapsTo\", \"http://onto-ns.com/1/sem#calibrationScanSpeed\"),\n",
    "  (\"http://onto-ns.com/meta/matchmaker/demo/0.2/image#ColorMode\", \"http://emmo.info/domain-mappings#mapsTo\", \"http://onto-ns.com/1/sem#colorMode\"),\n",
    "  (\"http://onto-ns.com/meta/matchmaker/demo/0.2/image#PolymorphicMode\", \"http://emmo.info/domain-mappings#mapsTo\", \"http://onto-ns.com/1/sem#polymorphicMode\"),\n",
    "  (\"http://onto-ns.com/meta/matchmaker/demo/0.2/image#LensMagnification\", \"http://emmo.info/domain-mappings#mapsTo\", \"http://onto-ns.com/1/sem#lensMagnification\")\n",
    "]\n"
   ]
  },
  {
   "cell_type": "code",
   "execution_count": 3,
   "id": "e15a2ef7-809b-4f5d-bc65-866a83a3c0d3",
   "metadata": {},
   "outputs": [],
   "source": [
    "# Create configurations for filters\n",
    "\n",
    "# Resource Config for mpr files\n",
    "cansDataConfig = ResourceConfig(    \n",
    "    downloadUrl=\"https://raw.githubusercontent.com/EMMC-ASBL/oteapi-dlite/151-partial-pipeline-example/examples/partial-pipeline/data/Hitachi_imageName1.txt\",\n",
    "    mediaType=\"application/parse-txt\",\n",
    "    configuration={\n",
    "        \"splitBy\":\"=\",\n",
    "        \"metadata\": \"http://onto-ns.com/meta/matchmaker/demo/0.2/image\" ,\n",
    "        \"storage_path\": \"/dome_demo/models\" \n",
    "    }\n",
    ")\n",
    "\n",
    "cansMprDataParser= client.create_dataresource(cansDataConfig)\n",
    "createcollectionfilter = FilterConfig(\n",
    "      filterType=\"dlite/create-collection\",\n",
    "    description=\"\",\n",
    "    configuration={},\n",
    ")\n",
    "cansDataMappingsMpr = MappingConfig(\n",
    "    mappingType=\"mappings\",\n",
    "    triples = dataMappings,\n",
    "    configuration={\n",
    "    }     \n",
    ")\n",
    "cansMprDataMappings = client.create_mapping(cansDataMappingsMpr)\n",
    "createCollection=client.create_filter(createcollectionfilter)\n"
   ]
  },
  {
   "cell_type": "code",
   "execution_count": 4,
   "id": "be09f417-b6c5-4098-beeb-b3bba0d9898d",
   "metadata": {},
   "outputs": [],
   "source": [
    "generatorMappings=[ (\"http://onto-ns.com/meta/matchmaker/demo/0.2/image#imageURL\", \"http://emmo.info/domain-mappings#mapsTo\", \"http://onto-ns.com/1/sem#imageUrl\"),\n",
    "                   (\"http://onto-ns.com/meta/matchmaker/demo/0.2/image#pixelSIZE\", \"http://emmo.info/domain-mappings#mapsTo\", \"http://onto-ns.com/1/sem#pixelSize\")]"
   ]
  },
  {
   "cell_type": "code",
   "execution_count": 5,
   "id": "f8e58dfa-da62-437c-8d0a-39dd7f3887ba",
   "metadata": {},
   "outputs": [],
   "source": [
    "# Mapping configuration for the mapping filter\n",
    "generatorMappingConfig = MappingConfig(\n",
    "    mappingType=\"mappings\",\n",
    "    triples = generatorMappings,\n",
    "    configuration={\n",
    "    }     \n",
    ")\n",
    "\n",
    "# Configuration that fetches data and stores to a json file\n",
    "generatorFilterConfig = FunctionConfig(\n",
    "    functionType=\"dlite/translate\",\n",
    "    configuration={'metadata':'http://onto-ns.com/meta/matchmaker/demo/0.1/imageurl',\n",
    "                    'storage_path':\"/dome_demo/models/matchmakerConsumer.json\",\n",
    "                   \"fileDestination\": \"/oteapi-dlite/output_dlite.json\"} \n",
    ")\n",
    "generatorMappings= client.create_mapping(generatorMappingConfig)\n",
    "generatorFilter=client.create_function(generatorFilterConfig)"
   ]
  },
  {
   "cell_type": "code",
   "execution_count": 7,
   "id": "2db20bee-0429-41f4-9250-0baba872ba4c",
   "metadata": {},
   "outputs": [
    {
     "data": {
      "text/plain": [
       "b'{\"collection_id\":\"3083116e-d86e-4c52-8b2e-95d7945f16c4\"}'"
      ]
     },
     "execution_count": 7,
     "metadata": {},
     "output_type": "execute_result"
    }
   ],
   "source": [
    "# Build a short pipeline; this works (returns a collection_id)\n",
    "pipeline = cansMprDataParser>>cansMprDataMappings\n",
    "\n",
    "# Execute the pipeline\n",
    "pipeline.get()"
   ]
  },
  {
   "cell_type": "code",
   "execution_count": 6,
   "id": "745b9b79-375c-4bbb-8df3-eafbc3399304",
   "metadata": {},
   "outputs": [
    {
     "ename": "ApiError",
     "evalue": "ApiError: status=500 Cannot fetch function: session_id='session-c9a38462-a1b4-4ef3-b8d6-7688566008fe' function_id='function-a7402487-1f30-4e87-b4b0-109a668da7b7'",
     "output_type": "error",
     "traceback": [
      "\u001b[0;31m---------------------------------------------------------------------------\u001b[0m",
      "\u001b[0;31mApiError\u001b[0m                                  Traceback (most recent call last)",
      "Cell \u001b[0;32mIn[6], line 6\u001b[0m\n\u001b[1;32m      3\u001b[0m pipeline \u001b[38;5;241m=\u001b[39m cansMprDataParser\u001b[38;5;241m>>\u001b[39mcansMprDataMappings\u001b[38;5;241m>>\u001b[39mgeneratorMappings\u001b[38;5;241m>>\u001b[39mgeneratorFilter\u001b[38;5;241m>>\u001b[39mcreateCollection\n\u001b[1;32m      5\u001b[0m \u001b[38;5;66;03m# Execute the pipeline\u001b[39;00m\n\u001b[0;32m----> 6\u001b[0m \u001b[43mpipeline\u001b[49m\u001b[38;5;241;43m.\u001b[39;49m\u001b[43mget\u001b[49m\u001b[43m(\u001b[49m\u001b[43m)\u001b[49m\n",
      "File \u001b[0;32m~/.venv/ote/lib/python3.10/site-packages/otelib/backends/strategies.py:94\u001b[0m, in \u001b[0;36mAbstractBaseStrategy.get\u001b[0;34m(self, session_id)\u001b[0m\n\u001b[1;32m     92\u001b[0m \u001b[38;5;28mself\u001b[39m\u001b[38;5;241m.\u001b[39minitialize(session_id)\n\u001b[1;32m     93\u001b[0m \u001b[38;5;28;01mif\u001b[39;00m \u001b[38;5;28mself\u001b[39m\u001b[38;5;241m.\u001b[39minput_pipe:\n\u001b[0;32m---> 94\u001b[0m     \u001b[38;5;28;43mself\u001b[39;49m\u001b[38;5;241;43m.\u001b[39;49m\u001b[43minput_pipe\u001b[49m\u001b[38;5;241;43m.\u001b[39;49m\u001b[43mget\u001b[49m\u001b[43m(\u001b[49m\u001b[43msession_id\u001b[49m\u001b[43m)\u001b[49m\n\u001b[1;32m     95\u001b[0m \u001b[38;5;28;01mreturn\u001b[39;00m \u001b[38;5;28mself\u001b[39m\u001b[38;5;241m.\u001b[39mfetch(session_id)\n",
      "File \u001b[0;32m~/.venv/ote/lib/python3.10/site-packages/otelib/pipe.py:18\u001b[0m, in \u001b[0;36mPipe.get\u001b[0;34m(self, session_id)\u001b[0m\n\u001b[1;32m     16\u001b[0m \u001b[38;5;28;01mdef\u001b[39;00m \u001b[38;5;21mget\u001b[39m(\u001b[38;5;28mself\u001b[39m, session_id: \u001b[38;5;124m\"\u001b[39m\u001b[38;5;124mOptional[str]\u001b[39m\u001b[38;5;124m\"\u001b[39m \u001b[38;5;241m=\u001b[39m \u001b[38;5;28;01mNone\u001b[39;00m) \u001b[38;5;241m-\u001b[39m\u001b[38;5;241m>\u001b[39m \u001b[38;5;28mbytes\u001b[39m:\n\u001b[1;32m     17\u001b[0m \u001b[38;5;250m    \u001b[39m\u001b[38;5;124;03m\"\"\"Call the input strategy's `get()` method.\"\"\"\u001b[39;00m\n\u001b[0;32m---> 18\u001b[0m     \u001b[38;5;28;01mreturn\u001b[39;00m \u001b[38;5;28;43mself\u001b[39;49m\u001b[38;5;241;43m.\u001b[39;49m\u001b[43minput\u001b[49m\u001b[38;5;241;43m.\u001b[39;49m\u001b[43mget\u001b[49m\u001b[43m(\u001b[49m\u001b[43msession_id\u001b[49m\u001b[43m)\u001b[49m\n",
      "File \u001b[0;32m~/.venv/ote/lib/python3.10/site-packages/otelib/backends/strategies.py:95\u001b[0m, in \u001b[0;36mAbstractBaseStrategy.get\u001b[0;34m(self, session_id)\u001b[0m\n\u001b[1;32m     93\u001b[0m \u001b[38;5;28;01mif\u001b[39;00m \u001b[38;5;28mself\u001b[39m\u001b[38;5;241m.\u001b[39minput_pipe:\n\u001b[1;32m     94\u001b[0m     \u001b[38;5;28mself\u001b[39m\u001b[38;5;241m.\u001b[39minput_pipe\u001b[38;5;241m.\u001b[39mget(session_id)\n\u001b[0;32m---> 95\u001b[0m \u001b[38;5;28;01mreturn\u001b[39;00m \u001b[38;5;28;43mself\u001b[39;49m\u001b[38;5;241;43m.\u001b[39;49m\u001b[43mfetch\u001b[49m\u001b[43m(\u001b[49m\u001b[43msession_id\u001b[49m\u001b[43m)\u001b[49m\n",
      "File \u001b[0;32m~/.venv/ote/lib/python3.10/site-packages/otelib/backends/services/base.py:89\u001b[0m, in \u001b[0;36mBaseServicesStrategy.fetch\u001b[0;34m(self, session_id)\u001b[0m\n\u001b[1;32m     83\u001b[0m     \u001b[38;5;28;01mreturn\u001b[39;00m response\u001b[38;5;241m.\u001b[39mcontent\n\u001b[1;32m     84\u001b[0m strategy_name \u001b[38;5;241m=\u001b[39m (\n\u001b[1;32m     85\u001b[0m     \u001b[38;5;28mself\u001b[39m\u001b[38;5;241m.\u001b[39mstrategy_name[\u001b[38;5;28mlen\u001b[39m(\u001b[38;5;124m\"\u001b[39m\u001b[38;5;124mdata\u001b[39m\u001b[38;5;124m\"\u001b[39m) :]\n\u001b[1;32m     86\u001b[0m     \u001b[38;5;28;01mif\u001b[39;00m \u001b[38;5;28mself\u001b[39m\u001b[38;5;241m.\u001b[39mstrategy_name\u001b[38;5;241m.\u001b[39mstartswith(\u001b[38;5;124m\"\u001b[39m\u001b[38;5;124mdata\u001b[39m\u001b[38;5;124m\"\u001b[39m)\n\u001b[1;32m     87\u001b[0m     \u001b[38;5;28;01melse\u001b[39;00m \u001b[38;5;28mself\u001b[39m\u001b[38;5;241m.\u001b[39mstrategy_name\n\u001b[1;32m     88\u001b[0m )\n\u001b[0;32m---> 89\u001b[0m \u001b[38;5;28;01mraise\u001b[39;00m ApiError(\n\u001b[1;32m     90\u001b[0m     \u001b[38;5;124mf\u001b[39m\u001b[38;5;124m\"\u001b[39m\u001b[38;5;124mCannot fetch \u001b[39m\u001b[38;5;132;01m{\u001b[39;00m\u001b[38;5;28mself\u001b[39m\u001b[38;5;241m.\u001b[39mstrategy_name\u001b[38;5;132;01m}\u001b[39;00m\u001b[38;5;124m: session_id=\u001b[39m\u001b[38;5;132;01m{\u001b[39;00msession_id\u001b[38;5;132;01m!r}\u001b[39;00m\u001b[38;5;124m \u001b[39m\u001b[38;5;124m\"\u001b[39m\n\u001b[1;32m     91\u001b[0m     \u001b[38;5;124mf\u001b[39m\u001b[38;5;124m\"\u001b[39m\u001b[38;5;132;01m{\u001b[39;00mstrategy_name\u001b[38;5;132;01m}\u001b[39;00m\u001b[38;5;124m_id=\u001b[39m\u001b[38;5;132;01m{\u001b[39;00m\u001b[38;5;28mself\u001b[39m\u001b[38;5;241m.\u001b[39mstrategy_id\u001b[38;5;132;01m!r}\u001b[39;00m\u001b[38;5;124m\"\u001b[39m\n\u001b[1;32m     92\u001b[0m     \u001b[38;5;124mf\u001b[39m\u001b[38;5;124m\"\u001b[39m\u001b[38;5;132;01m{\u001b[39;00m\u001b[38;5;124m'\u001b[39m\u001b[38;5;124m content=\u001b[39m\u001b[38;5;124m'\u001b[39m\u001b[38;5;250m \u001b[39m\u001b[38;5;241m+\u001b[39m\u001b[38;5;250m \u001b[39m\u001b[38;5;28mstr\u001b[39m(response\u001b[38;5;241m.\u001b[39mcontent)\u001b[38;5;250m \u001b[39m\u001b[38;5;28;01mif\u001b[39;00m\u001b[38;5;250m \u001b[39m\u001b[38;5;28mself\u001b[39m\u001b[38;5;241m.\u001b[39mdebug\u001b[38;5;250m \u001b[39m\u001b[38;5;28;01melse\u001b[39;00m\u001b[38;5;250m \u001b[39m\u001b[38;5;124m'\u001b[39m\u001b[38;5;124m'\u001b[39m\u001b[38;5;132;01m}\u001b[39;00m\u001b[38;5;124m\"\u001b[39m,\n\u001b[1;32m     93\u001b[0m     status\u001b[38;5;241m=\u001b[39mresponse\u001b[38;5;241m.\u001b[39mstatus_code,\n\u001b[1;32m     94\u001b[0m )\n",
      "\u001b[0;31mApiError\u001b[0m: ApiError: status=500 Cannot fetch function: session_id='session-c9a38462-a1b4-4ef3-b8d6-7688566008fe' function_id='function-a7402487-1f30-4e87-b4b0-109a668da7b7'"
     ]
    }
   ],
   "source": [
    "# Build a new pipeline by merging the fetched one with the generator Pipeline; this produces\n",
    "# the 'siemens' DimensionalityError, visible in the oteapi-services docker container.\n",
    "pipeline = cansMprDataParser>>cansMprDataMappings>>generatorMappings>>generatorFilter>>createCollection\n",
    "\n",
    "# Execute the pipeline\n",
    "pipeline.get()"
   ]
  },
  {
   "cell_type": "code",
   "execution_count": null,
   "id": "ea047d3c-1a11-4cf8-a142-db906bf27780",
   "metadata": {},
   "outputs": [],
   "source": []
  },
  {
   "cell_type": "code",
   "execution_count": null,
   "id": "4fb2ce47-07ec-4cb0-8b52-8c00df19abc6",
   "metadata": {},
   "outputs": [],
   "source": []
  },
  {
   "cell_type": "code",
   "execution_count": null,
   "id": "8f43bb0e-c080-45a5-b2b4-737bb6178191",
   "metadata": {},
   "outputs": [],
   "source": []
  },
  {
   "cell_type": "code",
   "execution_count": null,
   "id": "45bf57cf-b4d3-4364-92fe-a97f990218f3",
   "metadata": {},
   "outputs": [],
   "source": []
  }
 ],
 "metadata": {
  "kernelspec": {
   "display_name": "Python 3 (ipykernel)",
   "language": "python",
   "name": "python3"
  },
  "language_info": {
   "codemirror_mode": {
    "name": "ipython",
    "version": 3
   },
   "file_extension": ".py",
   "mimetype": "text/x-python",
   "name": "python",
   "nbconvert_exporter": "python",
   "pygments_lexer": "ipython3",
   "version": "3.10.6"
  }
 },
 "nbformat": 4,
 "nbformat_minor": 5
}
