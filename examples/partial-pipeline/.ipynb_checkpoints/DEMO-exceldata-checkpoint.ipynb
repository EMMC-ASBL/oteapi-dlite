{
 "cells": [
  {
   "cell_type": "code",
   "execution_count": 1,
   "id": "11544030-eb82-4bfa-8b6e-c6833b66e750",
   "metadata": {},
   "outputs": [],
   "source": [
    "from oteutils.kb import *\n",
    "from oteutils.utils import *\n",
    "# Connect to the OTEAPI services\n",
    "client = OTEPipelines(url='http://localhost:8080')"
   ]
  },
  {
   "cell_type": "code",
   "execution_count": 2,
   "id": "0a5d8ac6-37a9-4347-9ce0-88cf46f91471",
   "metadata": {},
   "outputs": [],
   "source": [
    "# Create configurations for filters\n",
    "\n",
    "# Fetch mappings as triples from .ttl file\n",
    "tsp=Triplestore(backend=\"rdflib\")\n",
    "tsp.parse('./mappings/Vipcoat_fetch.ttl')\n",
    "dataMappings=[]\n",
    "for (s, p, o) in tsp.triples(None,MAP.mapsTo,None): \n",
    "    dataMappings.append((s, p, o))\n",
    "# print(dataMappings)\n",
    "\n",
    "# Mapping configuration for the mapping filter\n",
    "generatorMappingConfig = MappingConfig(\n",
    "    mappingType=\"mappings\",\n",
    "    triples = dataMappings,\n",
    "    configuration={\n",
    "    }     \n",
    ")\n",
    "\n",
    "# Configuration that fetches data and stores to a json file\n",
    "generatorFilterConfig = FunctionConfig(\n",
    "    functionType=\"dlite/translate\",\n",
    "    configuration={'metadata':'http://onto-ns.com/meta/vipcoat/demo/0.2/data',\n",
    "                    'storage_path':\"/dome_demo/models/vipcoat_fetch_properties.json\",\n",
    "                   \"fileDestination\": \"/oteapi-dlite/output_dlite.json\"} \n",
    ")\n",
    "\n",
    "\n",
    "createcollectionfilter = FilterConfig(\n",
    "      filterType=\"dlite/create-collection\",\n",
    "    description=\"\",\n",
    "    configuration={},\n",
    ")\n",
    "\n",
    "\n",
    "# Create Filters\n",
    "generatorMappings= client.create_mapping(generatorMappingConfig)\n",
    "generatorFilter=client.create_function(generatorFilterConfig)\n",
    "createCollection=client.create_filter(createcollectionfilter)\n",
    "\n",
    "# Build Pipeline\n",
    "generatorPipeline =generatorMappings >> generatorFilter >> createCollection \n",
    "\n"
   ]
  },
  {
   "cell_type": "markdown",
   "id": "14c74d9c-1e14-4dd2-8f6b-e3d924918aad",
   "metadata": {},
   "source": [
    "## Fetch Data Pipeline w.r.t resource URL "
   ]
  },
  {
   "cell_type": "code",
   "execution_count": 3,
   "id": "1bb836c2-dbe5-4817-89b2-18849c215c21",
   "metadata": {},
   "outputs": [
    {
     "name": "stdout",
     "output_type": "stream",
     "text": [
      "\n",
      "\n",
      "# Please connect to: client = OTEPipelines(url='http://localhost:8080') use otelib pypi package\n",
      "\n",
      "    \n",
      "        f_1 = client.create_dataresource(ResourceConfig(configuration={'excel_config': {'worksheet': 'EIS_VALUES', 'header_row': '1', 'row_from': '2', 'row_to': '10'}, 'storage_path': '/dome_demo/models/vipcoat_EIS_properties.json', 'metadata': 'http://onto-ns.com/meta/vipcoat/demo/0.2/EIS'},downloadUrl='file:///dome_demo/data/vipcoatEIS.xlsx' ,mediaType='application/vnd.dlite-xlsx'))\n",
      "    \n",
      "    \n",
      "    \n",
      "    \n",
      "\n",
      "    \n",
      "    \n",
      "         f_2 = client.create_mapping(MappingConfig(configuration={},mappingType='mappings' ,triples=[('http://onto-ns.com/meta/vipcoat/demo/0.2/EIS#Electrode_potential', 'http://emmo.info/domain-mappings#mapsTo', 'http://onto-ns.com/meta/vipcoat/demo/0.2/properties#electrodePotential'), ('http://onto-ns.com/meta/vipcoat/demo/0.2/EIS#Impedance_img', 'http://emmo.info/domain-mappings#mapsTo', 'http://onto-ns.com/meta/vipcoat/demo/0.2/properties#imginaryImpedanceValue'), ('http://onto-ns.com/meta/vipcoat/demo/0.2/EIS#Frequency', 'http://emmo.info/domain-mappings#mapsTo', 'http://onto-ns.com/meta/vipcoat/demo/0.2/properties#frequency'), ('http://onto-ns.com/meta/vipcoat/demo/0.2/EIS#Impedance_real', 'http://emmo.info/domain-mappings#mapsTo', 'http://onto-ns.com/meta/vipcoat/demo/0.2/properties#realImpedanceValue'), ('http://onto-ns.com/meta/vipcoat/demo/0.2/EIS#Impedance_Phase', 'http://emmo.info/domain-mappings#mapsTo', 'http://onto-ns.com/meta/vipcoat/demo/0.2/properties#phaseOfImpedance'), ('http://onto-ns.com/meta/vipcoat/demo/0.2/EIS#Time', 'http://emmo.info/domain-mappings#mapsTo', 'http://onto-ns.com/meta/vipcoat/demo/0.2/properties#time'), ('http://onto-ns.com/meta/vipcoat/demo/0.2/EIS#Absolute_Impedance', 'http://emmo.info/domain-mappings#mapsTo', 'http://onto-ns.com/meta/vipcoat/demo/0.2/properties#absoluteImpedanceValue')]))\n",
      "    \n",
      "    \n",
      "    \n",
      "\n",
      "storedPipeline = f_1  >>   f_2   \n"
     ]
    }
   ],
   "source": [
    "# File links given as download urls in the configuration of the data resources\n",
    "\n",
    "mpr_file=\"https://vipcoat-bucket.s3.eu-west-2.amazonaws.com/experiments/raw/2-amino-4-methylthiazole|CC1=CSC(=N1)N/101022_1mM_2amino4methylthiazole_run1/101022_1mM_2amino4methylthiazole_run1_11_PEIS_C01.mpr\"\n",
    "excel_file=\"file:///dome_demo/data/vipcoatEIS.xlsx\"\n",
    "\n",
    "pipe_iri = find_pipeline_by_config_iri(excel_file)\n",
    "print(fetch_pipeline(pipe_iri))\n"
   ]
  },
  {
   "cell_type": "markdown",
   "id": "b62a9a12-cfb4-4651-9675-81b88f51f4e5",
   "metadata": {},
   "source": [
    "## Copy the above filter configurations and Pipeline and run with the generator pipeline"
   ]
  },
  {
   "cell_type": "code",
   "execution_count": 4,
   "id": "f79a8991-1e16-4bb4-98bf-85849834791d",
   "metadata": {},
   "outputs": [],
   "source": [
    "\n",
    "\n",
    "# Please connect to: client = OTEPipelines(url='http://localhost:8080') use otelib pypi package\n",
    "\n",
    "    \n",
    "f_1 = client.create_dataresource(ResourceConfig(configuration={'storage_path': '/dome_demo/models/vipcoat_EIS_properties.json', 'metadata': 'http://onto-ns.com/meta/vipcoat/demo/0.2/EIS', 'excel_config': {'worksheet': 'EIS_VALUES', 'header_row': '1', 'row_from': '2', 'row_to': '10'}},downloadUrl='file:///dome_demo/data/vipcoatEIS.xlsx' ,mediaType='application/vnd.dlite-xlsx'))\n",
    "    \n",
    "    \n",
    "    \n",
    "f_2 = client.create_mapping(MappingConfig(configuration={},mappingType='mappings' ,triples=[('http://onto-ns.com/meta/vipcoat/demo/0.2/EIS#Impedance_Phase', 'http://emmo.info/domain-mappings#mapsTo', 'http://onto-ns.com/meta/vipcoat/demo/0.2/properties#phaseOfImpedance'), ('http://onto-ns.com/meta/vipcoat/demo/0.2/EIS#Absolute_Impedance', 'http://emmo.info/domain-mappings#mapsTo', 'http://onto-ns.com/meta/vipcoat/demo/0.2/properties#absoluteImpedanceValue'), ('http://onto-ns.com/meta/vipcoat/demo/0.2/EIS#Impedance_real', 'http://emmo.info/domain-mappings#mapsTo', 'http://onto-ns.com/meta/vipcoat/demo/0.2/properties#realImpedanceValue'), ('http://onto-ns.com/meta/vipcoat/demo/0.2/EIS#Impedance_img', 'http://emmo.info/domain-mappings#mapsTo', 'http://onto-ns.com/meta/vipcoat/demo/0.2/properties#imginaryImpedanceValue'), ('http://onto-ns.com/meta/vipcoat/demo/0.2/EIS#Time', 'http://emmo.info/domain-mappings#mapsTo', 'http://onto-ns.com/meta/vipcoat/demo/0.2/properties#time'), ('http://onto-ns.com/meta/vipcoat/demo/0.2/EIS#Electrode_potential', 'http://emmo.info/domain-mappings#mapsTo', 'http://onto-ns.com/meta/vipcoat/demo/0.2/properties#electrodePotential'), ('http://onto-ns.com/meta/vipcoat/demo/0.2/EIS#Frequency', 'http://emmo.info/domain-mappings#mapsTo', 'http://onto-ns.com/meta/vipcoat/demo/0.2/properties#frequency')]))\n",
    "    \n",
    "    \n",
    "    \n",
    "\n",
    "storedPipeline = f_1  >>   f_2    "
   ]
  },
  {
   "cell_type": "code",
   "execution_count": 5,
   "id": "fd4d1aaf-70d1-4628-be35-4ac6714ede48",
   "metadata": {},
   "outputs": [
    {
     "data": {
      "text/plain": [
       "b'{\"collection_id\":\"8c7b19ad-b383-42aa-ad56-fa689c95fa20\"}'"
      ]
     },
     "execution_count": 5,
     "metadata": {},
     "output_type": "execute_result"
    }
   ],
   "source": [
    "# Build a new pipeline by merging the fetched one with the generator Pipeline\n",
    "pipeline = storedPipeline >> generatorPipeline\n",
    "\n",
    "# Execute the pipeline\n",
    "pipeline.get()"
   ]
  },
  {
   "cell_type": "code",
   "execution_count": 6,
   "id": "f0281799-4470-4a89-b68b-b6db53eae0fd",
   "metadata": {},
   "outputs": [
    {
     "name": "stdout",
     "output_type": "stream",
     "text": [
      "           Time  Potential_of_electrode   Impedence\n",
      "0   2654.569989               -0.529052  112.829445\n",
      "1  92655.174059               -0.529120  113.374672\n",
      "2  92655.729489               -0.529129  114.048653\n",
      "3  92656.404330               -0.529119  114.723297\n",
      "4  92657.077331               -0.529125  115.822495\n",
      "5  92657.750214               -0.529123  116.874512\n",
      "6  92658.423306               -0.529124  118.185036\n",
      "7  92659.095065               -0.529131  119.896843\n",
      "8  92659.767072               -0.529127  121.940933\n"
     ]
    }
   ],
   "source": [
    "## Display the data stored in the generated json file\n",
    "\n",
    "import json\n",
    "f = open('./oteapi-dlite/output_dlite.json')\n",
    "data = json.load(f)\n",
    "f.close()\n",
    "# print(data)\n",
    "import pandas as pd\n",
    "df = pd.DataFrame(data=data)\n",
    "print(df)"
   ]
  },
  {
   "cell_type": "code",
   "execution_count": null,
   "id": "f8e58dfa-da62-437c-8d0a-39dd7f3887ba",
   "metadata": {},
   "outputs": [],
   "source": []
  }
 ],
 "metadata": {
  "kernelspec": {
   "display_name": "Python 3 (ipykernel)",
   "language": "python",
   "name": "python3"
  },
  "language_info": {
   "codemirror_mode": {
    "name": "ipython",
    "version": 3
   },
   "file_extension": ".py",
   "mimetype": "text/x-python",
   "name": "python",
   "nbconvert_exporter": "python",
   "pygments_lexer": "ipython3",
   "version": "3.9.4"
  }
 },
 "nbformat": 4,
 "nbformat_minor": 5
}
